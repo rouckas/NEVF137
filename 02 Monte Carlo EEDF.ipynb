{
 "cells": [
  {
   "cell_type": "markdown",
   "metadata": {},
   "source": [
    "## Monte Carlo výpočet EEDF\n",
    "> ##### Poznámka, značení\n",
    "> Značení $x\\sim G$ znamená, že $x$ je náhodným výběrem z rozdělení pravděpodobnosti $G$.\n",
    "> Konkrétně $U(a,b)$ značí rovnoměrné rozdělení pravděpodobnosti na intervalu $[a,b]$ a ${\\rm EXP}(\\tau)$\n",
    "> značí exponenciální rozdělení se střední hodnotou $\\tau$.\n",
    "\n",
    "Výpočet elektronové rozdělovací funkce (EEDF, Electron Energy Distribution Function) metodou Monte Carlo. Při simulaci srážek metodou Monte Carlo řešíme v zásadě dvě otázky: **jak často** dochází ke srážkám a jaké jsou **následky srážky**. Odpovědi na tyto otázky považujeme za náhodné. V následujících odstavcích odvodíme jejich pravděpodobnostní rozdělení pro potřeby simulace.\n",
    "### Srážky - základní pojmy\n",
    "#### Nehybná rozptylová centra\n",
    "Pravděpodobnost srážky je charakterizována účinným průřezem $\\sigma$, $[\\sigma]=\\rm cm^2$. Pokud se částice pohybuje rychlostí $v$ v prostředí, kde jsou nehybná rozptylová centra s koncentrací $n$, tak počet srážek prodělaných na dráze ${\\rm d}x$ je\n",
    "$$\n",
    "N_x{\\rm d}x = n\\sigma(v){\\rm d}x.\n",
    "$$\n",
    "Pokud se prostředím šíří např. elektronový svazek s intenzitou $I$, tak jeho útlum na dráze ${\\rm d}x$ je dán vztahem\n",
    "$$\n",
    "I(x+{\\rm d}x) = I(x)(1-n\\sigma(v){\\rm d}x).\n",
    "$$\n",
    "To můžeme formálně přepsat jako\n",
    "$$\n",
    "\\frac{I(x+{\\rm d}x) - I(x)}{{\\rm d}x} = n\\sigma(v) I(x)\n",
    "$$\n",
    "a řešení této diferenciální rovnice je \n",
    "$$\n",
    "I(x) = I_0 e^{-n\\sigma x} \\equiv I_0 e^{-x/\\lambda},\n",
    "$$\n",
    "kde jsme definovali střední volnou dráhu $\\lambda=1/\\sigma n$."
   ]
  },
  {
   "cell_type": "markdown",
   "metadata": {},
   "source": [
    "#### Pohyblivá rozptylová centra\n",
    "Jak charakterizovat srážky v případě, že se rozptylová centra pohybují? Pro začátek předpokládejme, že se všechna pohybují rychlostí $v'$. Pokud bychom opět chtěli určit počet srážek na dráze ${\\rm d}x$, tak bychom museli nahradit $v$ v účinném průřezu za relativní rychlost (jednoduché) a zároveň z elementu ${\\rm d}x$, který urazil svazek vypočíst vzdálenost, kterou urazil svazek relativně vůči pohybujícímu se pozadí. To může být komplikované, obzlášť pokud bychom chtěli integrovat přes rychlostní rozdělení srážejících se částic. Vhodnější je počítat počet srážek za čas ${\\rm d}t$.  Ten získáme substitucí ${\\rm d}x\\to v{\\rm d}t$:\n",
    "$$\n",
    "N_x{\\rm d}x = n\\sigma(v)v{\\rm d}t \\equiv N_t{\\rm d}t = .\n",
    "$$\n",
    "Vzhledem k tomu, že ${\\rm d}t$ nezávisí na $v$, můžeme jednoduše substituovat $v$ za relativní rychlost $g = |{\\mathbf v}-{\\mathbf v}'|$\n",
    "$$\n",
    "N_t{\\rm d}t = n\\sigma(g)g{\\rm d}t.\n",
    "$$\n",
    "Pokud nyní uvážíme, že rozptylová centra mají rozdělení rychlosti $f(x, {\\mathbf v}')$ normované na $\\int f(x, {\\mathbf v}'){\\rm d}{\\mathbf v}'=1$, tak počet srážek za čas ${\\rm d}t$ s částicemi o rychlostech z elementu ${\\rm d}{\\mathbf v}'$ je\n",
    "$$\n",
    "N_{tv}{\\rm d}t{\\rm d}{\\mathbf v}' = n(x)f(x, {\\mathbf v}')\\sigma(g)g{\\rm d}t{\\rm d}{\\mathbf v}'\\tag{Ntv}\n",
    "$$\n",
    "a celkový počet srážek, tedy srážková frekvence je\n",
    "$$\n",
    "N_t{\\rm d}t =\\int_{{\\mathbf v}'}n(x)f(x, {\\mathbf v}')\\sigma(g)g{\\rm d}t{\\rm d}{\\mathbf v}'.\\tag{Nt}\n",
    "$$\n",
    "Tento výraz je komplikovaný 3D integrál. Pokud bychom jej chtěli použít pro simulaci srážek, museli bychom integrál znovu vyhodnocovat při každé změně rychlosti. Ještě větší problém by potom bylo generování interagující částice z anizotropního rozdělení (Nvt). Situaci si však můžeme velmi výrazně zjednodušit následujícím trikem."
   ]
  },
  {
   "cell_type": "markdown",
   "metadata": {},
   "source": [
    "### Metoda nulové srážky\n",
    "V případě, že mezi danými typy částic dochází k více druhům srážek (např. elastické a excitace), můžeme vypočítat celkovou srážkovou frekvenci z výrazu (Nt) kde za $\\sigma$ dosadíme celkový účinný průřez $\\sigma(g)=\\sum_{i=1}^n \\sigma_i(g)$.\n",
    "\n",
    "Za účelem zjednodušení výpočtu můžeme přidat ještě další fiktivní srážkový proces, který nemá žádný vliv na trajektorii částice - takzvanou nulovou srážku - null collision. Její účinný průřez $\\sigma_0(g)$ volíme tak, aby pro nový *celkový* účinný průřez $\\sigma'(g)$ platilo\n",
    "$$\n",
    "g\\sigma'(g) = g(\\sigma_0(g) + \\sigma(g)) \\equiv k_{\\rm max} = {\\rm const.}\n",
    "$$\n",
    "Optimální hodnota $k_{\\rm max}$ pro minimalizaci počtu nulových srážek je\n",
    "$$\n",
    "k_{\\rm max} = \\max_g\\{g\\sigma(g)\\}\\tag{kmax}\n",
    "$$\n",
    "kde maximum hledáme přes množinu rychlostí relevantních pro aktuálně řešený problém. Účinný průřez nulové srážky lze tedy explicitně vyjádřit jako \n",
    "$\\sigma_0(g) = k_{\\rm max}/g - \\sigma(g)$, avšak tuto hodnotu při výpočtu nebudeme potřebovat.\n",
    "\n",
    "Pokud do rovnice pro srážkovou frekvenci (Nt) dosadíme nový účinný průřez $\\sigma'$, dostaneme jednoduchý výraz\n",
    "$$\n",
    "N_t{\\rm d}t\n",
    "=\\int_{{\\mathbf v}'}n(x)f(x, {\\mathbf v}')k_{\\rm max}{\\rm d}t{\\rm d}{\\mathbf v}'\n",
    "=n(x)k_{\\rm max}\\int_{{\\mathbf v}'}f(x, {\\mathbf v}'){\\rm d}t{\\rm d}{\\mathbf v}'\n",
    "=n(x)k_{\\rm max}\n",
    "$$\n",
    "a pro střední dobu mezi srážkami platí\n",
    "$$\n",
    "\\tau = \\frac{1}{N_t} = \\frac{1}{n k_{\\rm max}}.\n",
    "$$\n",
    "Všimněte, že i výraz pro rychlostní rozdělení interagujících částic se významně zjednodušil, neboť nyní je jeho rychlostní závislost úměrná přímo rychlostnímu rozdělení $f(x, \\mathbf v')$.\n",
    "\n",
    "![image](null-collision.svg)\n",
    "**Obrázek 1** Ilustrace fungování metody nulové srážky - graf kumulativní hodnoty $\\sigma v$ v závislosti na $g$. Graficky si algoritmus můžeme představit tak, že pro danou relativní rychlost $g$ vygenerujeme náhodné číslo $\\gamma\\sim U(0,1)$ a hodnota $\\gamma k_{\\rm max}$ nám v grafu ukáže typ srážky."
   ]
  },
  {
   "cell_type": "markdown",
   "metadata": {},
   "source": [
    "#### Popis algoritmu\n",
    "##### Doba mezi srážkami\n",
    "Simulace jedné strážky metodou Monte Carlo vypadá následovně\n",
    " - Generujeme čas do další srážky $\\tau_j\\sim{\\rm EXP}(\\tau)$ (výběrem z exponenciálního rozdělení se střední hodnotou $\\tau$). Lze generovat transformací rovnoměrně rozdělené proměné $\\gamma$ metodou inverzní CDF: $\\tau_j = -\\tau\\ln\\gamma; \\gamma\\sim U(0,1)$\n",
    " - Integrujeme pohybové rovnice, $t_{j-1}\\to t_j = t_{j-1}+\\tau_j$\n",
    " - Generujeme rychlost interagující částice $\\mathbf v'$ výběrem z odpovídajícího rychlostního rozdělení $f(x, \\mathbf v')$\n",
    " - Vypočteme relativní rychlost $g=|\\mathbf v - \\mathbf v'|$ a pravděpodobnosti jednotlivých procesů $P_i = g\\sigma_i(g)$\n",
    " - Náhodně vybereme typ aktuální srážky $I$ (výběrem z kategorického rozdělení s pravděpodobnostmi $P_i$). a započítáme následky srážky.\n",
    " \n",
    "Pokud simulujeme pouze jednu částici, tento cyklus neustále opakujeme dokud nedosáhneme požadovaného času výpočtu."
   ]
  },
  {
   "cell_type": "markdown",
   "metadata": {},
   "source": [
    "##### Následky srážky\n",
    "Nyní už zbývá jen vhodným způsobem započíst následky srážky. V případě elastických nebo inelastických srážek můžeme postupovat následovně. Počítejme srážku částic \"1\" a \"2\" s hmotnostmi $m_1$ a $m_2$ a rychlostmi $v_1$ a $v_2$. Srážku můžeme řešit v těžišťové soustavě. Ta se pohybuje rychlostí \n",
    "$$\n",
    "\\mathbf v_{\\rm CM} = \\frac{\\mathbf v_1m_1 + \\mathbf v_2m_2}{m_1+m_2}.\n",
    "$$\n",
    "Vypočteme-li celkovou energii obou částic v těžišťové soustavě, dostaneme\n",
    "$$\n",
    "E = \\frac{1}{2}\\mu g^2,\n",
    "$$\n",
    "kde $\\mu=m_1m_2/(m_1+m_2)$ je redukovaná hmota a $\\mathbf g = \\mathbf v_1 - \\mathbf v_2$ opět značí relativní rychlost. Toto je takzvaná srážková energie. Nyní můžeme zohlednit změnu energie $\\Delta E$ vlivem neelastické ($\\Delta E < 0$), superelastické ($\\Delta E > 0$) nebo elastické ($\\Delta E = 0$) srážky:\n",
    "$$\n",
    "E' = E+\\Delta E\n",
    "$$\n",
    "a dále potřebujeme vypočítat rychlosti částic po srážce. Velikost relativní rychlosti po srážce dostaneme jako\n",
    "$$\n",
    "g' = \\sqrt{\\frac{2E'}{\\mu'}}\n",
    "$$\n",
    "a pro určení jejího směru teoreticky potřebujeme znát diferenciální účinný průřez pro studovanou srážku, t.j., pro úhel $\\theta$ svíraný mezi $\\mathbf g$ a $\\mathbf g'$ platí $\\cos\\theta\\sim {\\rm d}\\sigma/{\\rm d}\\cos\\theta$ a azimutální úhel je rovnoměrně rozdělený: $\\phi\\sim U(0, 2\\pi)$.. Často však vystačíme s předpokladem izotropního rozptylu $\\cos\\theta\\sim U(-1, 1)$. V případě izotropního rozptylu navíc nezáleží na orientaci $\\mathbf g$ a stačí pouze vygenerovat náhodný vektor o velikosti $g'$. Viz poznámka níže.\n",
    "\n",
    "Nyní rozdělíme tuto relativní rychlost mezi jednotlivé částice v těžišťové soustavě. Ze zákona zachování hybnosti vyplývá\n",
    "$$\n",
    "\\mathbf v'_{1\\rm CM} = \\frac{m_2}{m_1+m_2}\\mathbf g;\\quad\n",
    "\\mathbf v'_{2\\rm CM} = -\\frac{m_1}{m_1+m_2}\\mathbf g\n",
    "$$\n",
    "a transformací zpět do laboratorní soustavy dostaneme výsledné rychlosti\n",
    "$$\n",
    "\\mathbf v'_{1} = \\mathbf v'_{1\\rm CM} + \\mathbf v'_{\\rm CM};\\quad\n",
    "\\mathbf v'_{2} = \\mathbf v'_{2\\rm CM} + \\mathbf v'_{\\rm CM}\n",
    "$$"
   ]
  },
  {
   "cell_type": "markdown",
   "metadata": {},
   "source": [
    "#### Poznámka, generování náhodného vektoru\n",
    "\n",
    "Náhodný izotropně rozdělený jednotkový vektor v $d$-dimenzionálním prostoru můžeme jednoduše generovat následující metodou:\n",
    " - generujeme náhodný vektor $\\mathbf x$ se složkami z $U(-1,1)$, tedy náhodný bod v krychli...\n",
    " - vypočítáme normu $x$. Pokud $x\\le 1$, náš bod je náhodně umistěný v jednotkové sféře. Pokud $x>1$ vracíme se k prvnímu kroku.\n",
    " - vektor normujeme ($\\mathbf x/x$), a tak dostáváme jednotkový vektor s izotropním směrovým rozdělením."
   ]
  },
  {
   "cell_type": "markdown",
   "metadata": {},
   "source": [
    "#### Shrnutí\n",
    "Výše uvedené metody jsou obecné a lze je využít pro simulaci srážek libovolných částic.\n",
    "\n",
    "Pokud nás zajímá rovnovážná rozdělovací funkce, můžeme teoreticky simulovat pouze jednu částici a po dostatečně dlouhou dobu zaznamenávat její energii do histogramu. Nebo můžeme simulovat mnoho částic najednou a po určité době ustalování zaznamenat jejich energetické rozdělení. Často je z hlediska efektivity výpočtu vhodné zvolit nějakou kombinaci těchto přístupů - simulovat určitý počet částic a průběžně zaznamenávat jejich energie do histogramu. Vhodný počet simulovaných částic lze určit experimentálně (využití paralelizovatelnosti, optimální využití cache atd...).\n",
    "\n",
    "Pokud nás zajímá časový vývoj rozdělení, musíme simulovat mnoho částic \"najednou\" a ve vybraných časech zaznamenat jejich energii. Slovo \"najednou\" píšu v uvozovkách, neboť částice jsou nezávislé a můžeme je klidně posílat jednu po druhé...\n",
    "\n",
    "V každém případě musíme středování provádět v časech, které jsou **nezávislé na srážkových časech** $t_j$! Pokud bychom například zaznamenávali energii po každých $n$ srážkách, došli bychom k nesprávnému výsledku. Víte proč?"
   ]
  }
 ],
 "metadata": {
  "kernelspec": {
   "display_name": "Python 2",
   "language": "python",
   "name": "python2"
  },
  "language_info": {
   "codemirror_mode": {
    "name": "ipython",
    "version": 2
   },
   "file_extension": ".py",
   "mimetype": "text/x-python",
   "name": "python",
   "nbconvert_exporter": "python",
   "pygments_lexer": "ipython2",
   "version": "2.7.17"
  }
 },
 "nbformat": 4,
 "nbformat_minor": 2
}
