{
 "cells": [
  {
   "cell_type": "markdown",
   "metadata": {},
   "source": [
    "# NEVF137 Modelování ve fyzice plazmatu\n",
    "Druhá část kurzu, přednáší Štěpán Roučka"
   ]
  },
  {
   "cell_type": "markdown",
   "metadata": {},
   "source": [
    "## Nekonečné homogenní plazma\n",
    "Začněme prakticky nejjednodušším problémem v modelování plazmatu: simulace homogenního plazmatu. Předpokládáme, že střední volná dráha všech typů částic je monohem menší než charakteristický rozměr plazmatu $L$. $L$ lze definovat pro parametr $Q$ jako $Q/|\\nabla Q|$, kde $Q$ je např nábojová hustota, tlak, teplota, koncetrace určitého typu částic..."
   ]
  },
  {
   "cell_type": "markdown",
   "metadata": {},
   "source": [
    "Předpokládáme prostorově nezávislé elektrické pole $\\mathbf E$ a nulové ${\\mathbf B}=0$. Problém je symetrický kolem vektoru $\\mathbf E$. "
   ]
  },
  {
   "cell_type": "markdown",
   "metadata": {},
   "source": [
    "Chceme zjistit rozdělovací funkci, například EEDF pro elektrony."
   ]
  },
  {
   "cell_type": "markdown",
   "metadata": {},
   "source": [
    "Řěšíme Boltzmannovu rovnici\n",
    "$$\n",
    "\\left(\n",
    "    \\frac{\\partial}{\\partial t} + \n",
    "    {\\mathbf v}\\cdot\\nabla_{\\mathbf r} + \n",
    "    \\frac{e{\\mathbf E}}{m}\\cdot\\nabla_{\\mathbf v}\n",
    "\\right)f({\\mathbf r}, {\\mathbf v}, t) = \n",
    "\\left(\\frac{\\delta f}{\\delta t}\\right)_{\\rm coll}$$"
   ]
  },
  {
   "cell_type": "markdown",
   "metadata": {},
   "source": [
    "kde zanedbáváme prostorově závislý člen ${\\mathbf v}\\cdot\\nabla_{\\mathbf r}$. Budeme používat následující značení: $m$ hmotnost elektronu, $M$ hmotnost neutrálu, $T$ teplota neutrálu."
   ]
  },
  {
   "cell_type": "markdown",
   "metadata": {},
   "source": [
    "## Rozvoj Boltzmannovy rovnice (two-term approximation)\n",
    "Lze řešit rozvojem rozdělovací funkce do řady (první dva členy):\n",
    "$$f({\\mathbf v}) = f_0(v) + \\frac{{\\mathbf v}}{v}\\cdot{\\mathbf f}_1(v),$$\n",
    "nebo ekvivalentně ([Johnston 1960](https://doi.org/10.1103/PhysRev.120.1103))\n",
    "$$f({v}) = f_0(v) + f_1(v)\\cos\\theta.$$\n",
    "Významným směrem je orientace el. pole. Tato aproximace je použitelná za předpokladu slabé ionizace a slebého vnějšího pole (elastické  srážky dominují, nedochází k runaway procesu). Boltzmannovu rovnici potom lze zapsat ve tvaru ([Morgan 1990](https://doi.org/10.1016/0010-4655%2890%2990141-M), [Rockwood 1973](https://doi.org/10.1103/PhysRevA.8.2348)).\n",
    "\n",
    "$$\n",
    "\\frac{\\partial n}{\\partial t} = \n",
    "    -\\frac{\\partial J_f}{\\partial\\epsilon}\n",
    "    -\\frac{\\partial J_{el}}{\\partial\\epsilon}\n",
    "$$\n",
    "\n",
    "$$\n",
    "    + \\sum_{s, j}N_s^0\\left[ \n",
    "        R_{sj}(\\epsilon + \\epsilon_{sj})n(\\epsilon + \\epsilon_{sj})\n",
    "        -R_{sj}(\\epsilon)n(\\epsilon)\n",
    "    \\right]\n",
    "    - \\sum_{s, j}N_s^j\\left[ \n",
    "        R_{sj}^*(\\epsilon)n(\\epsilon)\n",
    "        -R_{sj}^*(\\epsilon - \\epsilon_{sj})n(\\epsilon - \\epsilon_{sj})\n",
    "    \\right],\n",
    "$$\n",
    "kde $n=n_ef_0(\\epsilon)\\sqrt{\\epsilon}$, $\\epsilon$ je energie, $s$ je index typu neutrálu (pro směs plynů), $\\epsilon_{sj}$ je excitační energie $j$-tého stavu $s$-tého typu neutrálu. Vliv jednotlivých členů na pravé straně na vývoj hustoty pravděpodobnosti je následující:\n"
   ]
  },
  {
   "cell_type": "markdown",
   "metadata": {},
   "source": [
    "##### 1) Vliv vnějšího el. pole\n",
    "vyjadřuje člen $-\\frac{\\partial J_f}{\\partial\\epsilon}$, kde \n",
    "$$J_f = \\frac{2Ne^2(E/N)^2\\epsilon}{3m(2\\epsilon/m)^{1/2}\\sum_s\\delta_s\\sigma_s(\\epsilon)}\n",
    "    \\left(\\frac{n}{2\\epsilon} - \\frac{\\partial n}{\\partial\\epsilon}\\right),$$\n",
    "$\\delta_s=N_s/N$ je relativní koncentrace $s$-tého neutrálu a $\\sigma_s$ je příslušný účinný průřez pro přenos hybnosti (momentum transfer cross section).\n",
    "Pokud se podíváme pouze na závislost tohoto členu na $n$ a jeho vliv na  vývoj rozdělovací funkce, můžeme psát\n",
    "$$\\left.\\frac{\\partial n}{\\partial t}\\right|_f =-\\frac{\\partial J_f}{\\partial\\epsilon}=\\frac{\\partial}{\\partial\\epsilon}\\left(-An+B\\frac{\\partial n}{\\partial\\epsilon}\\right).$$\n",
    "Odhlédneme-li na chvíli od závislosti $A$ a $B$ na $\\epsilon$, tak první člen na pravé straně odpovídá rovnici advekce s kladnou rychlostí $A$, která způsobuje transport rozdělení směrem k vyšším energiím (ohřev elektronů).\n",
    "\n",
    "Druhý člen odpovídá rovnici difúze. Souvisí s tím, že el. pole urychluje elektrony, které se pohybují paralelně, ale zpomaluje elektrony, které se pohybují antiparalelně. Dochází tedy k \"rozmazání\" **energetického** rozdělení."
   ]
  },
  {
   "cell_type": "markdown",
   "metadata": {},
   "source": [
    "##### 2) Vliv elastických srážek\n",
    "vyjadřuje člen $-\\frac{\\partial J_{\\rm el}}{\\partial\\epsilon}$, kde \n",
    "$$J_{\\rm el} = N\\left(\\frac{2\\epsilon}{m}\\right)^{1/2}\\sum_s\\delta_s\\sigma_s(\\epsilon)\\frac{2m}{M_s}\n",
    "    \\left(n\\left(\\frac{kT}{2}-\\epsilon\\right)\n",
    "    -kT\\epsilon\\frac{\\partial n}{\\partial\\epsilon}\\right).\n",
    "    $$\n",
    "Zde opět můžeme identifikovat dva členy\n",
    "$$\\left.\\frac{\\partial n}{\\partial t}\\right|_{\\rm el} =-\\frac{\\partial J_{\\rm el}}{\\partial\\epsilon}=\n",
    "    -\\frac{\\partial}{\\partial\\epsilon}\\left(C\\left(n\\left(\\frac{kT}{2}-\\epsilon\\right)+kT\\epsilon\\frac{\\partial n}{\\partial\\epsilon}\\right)\\right),$$\n",
    "kde ten první způsobuje drift v energetickém rozdělení směrem ke $kT/2$, tedy termalizaci na teplotu neutrálů, a ten druhý způsobje difúzi z důvodu termálního pohybu neutrálů."
   ]
  },
  {
   "cell_type": "markdown",
   "metadata": {},
   "source": [
    "##### 3) Vliv neelastických srážek\n",
    "vyjadřuje člen\n",
    "$$\n",
    "\\left.\\frac{\\partial n}{\\partial t}\\right|_{\\rm inel} = \n",
    "    + \\sum_{s, j}N_s^0\\left[ \n",
    "        R_{sj}(\\epsilon + \\epsilon_{sj})n(\\epsilon + \\epsilon_{sj})\n",
    "        -R_{sj}(\\epsilon)n(\\epsilon)\n",
    "    \\right],\n",
    "$$\n",
    "kde \n",
    "$$R_{sj}(\\epsilon) = \\left(\\frac{2}{m}\\right)^{1/2}\\epsilon^{1/2}\\sigma_{sj}(\\epsilon)\n",
    "$$\n",
    "vyjadřuje \"rate\", tedy jak často dochází k reakci. Tento člen popisuje skokovou změnu energie o $\\epsilon_{sj}$ - první člen v závorce jsou částice, které původně měly energii $\\epsilon+\\epsilon_{sj}$ a ten druhý jsou částice s počáteční energií $\\epsilon$, které excitovaly."
   ]
  },
  {
   "cell_type": "markdown",
   "metadata": {},
   "source": [
    "##### 4) Vliv superelastických srážek\n",
    "$$\n",
    "\\left.\\frac{\\partial n}{\\partial t}\\right|_{\\rm supel} = \n",
    "    - \\sum_{s, j}N_s^j\\left[ \n",
    "        R_{sj}^*(\\epsilon)n(\\epsilon)\n",
    "        -R_{sj}^*(\\epsilon - \\epsilon_{sj})n(\\epsilon - \\epsilon_{sj})\n",
    "    \\right],\n",
    "$$\n",
    "kde\n",
    "$$R^*_{sj}(\\epsilon) = \\left(\\frac{2}{m}\\right)^{1/2}\\left(\\frac{(\\epsilon+\\epsilon_{sj})}{\\epsilon^{1/2}}\\sigma_{sj}(\\epsilon+\\epsilon_{sj})\\right).\n",
    "$$\n",
    "Srážky kde došlo k deexcitaci, rate určeno principem mikroreverzibility (detailed balance)."
   ]
  },
  {
   "cell_type": "markdown",
   "metadata": {},
   "source": [
    "##### Shrnutí\n",
    "Boltzmannova rovnice obsahuje jednak diferenciální členy, které reprezentují spojitou změnu energie vlivem elektrického pole a elastických srážek a jednak nelokální členy kvůli skokovým změnám energie ve srážkách. Jde tedy o diferenčně-diferenciální rovnici. Vliv jednotlivých členů je ilustrován v obrázku níže.\n",
    "\n",
    "Poznámka: v elastických srážkách také dochází ke skokové změně energie, ale je relativně tak malá ($\\approx m/M$), že je můžeme aproximovat jako spojitou změnu energie.\n",
    "\n",
    "\n",
    "![image](two-term.svg)\n",
    "**Obrázek 1** Ilustrace toho, jak jednotlivé členy v Boltzmannově rovnici transportují hustotu pravděpodobnosti v energetickém rozdělení."
   ]
  },
  {
   "cell_type": "markdown",
   "metadata": {},
   "source": [
    "## Numerické řešení\n",
    "Boltzmannovu rovnici ve výše uvedeném tvaru lze efektivně řešit na počítači. Lze využít například program ELENDIF ([Morgan 1990](https://doi.org/10.1016/0010-4655(90)90141-M), zdrojový kód dostupný zde: https://doi.org/10.17632/7p663wrgjs.1) nebo bolsig+ http://www.bolsig.laplace.univ-tlse.fr/. Přitom bolsig+ je modernější, má GUI i textové rozhraní, obsahuje databázi účinných průřezů, ale je closed-source, takže neumožňuje kontrolu a modifikaci použitých algoritmů. Výhodou ELENDIFu je dostupnost zdrojového kódu, nevýhodou FORTRAN77 :-)."
   ]
  },
  {
   "cell_type": "markdown",
   "metadata": {},
   "source": [
    "ELENDIF využívá k řešení metodu přímek (method of lines), kde diskretizuje energii\n",
    "($n(\\epsilon_i)\\to n_i, i=1\\ldots L$) a pravou stranu lze zapsat formou matice, která má nenulové členy na diagonále a jejím okolí (aproximace derivací konečnými diferencemi) a mimo diagonálu (nelokální diferenční členy - inelastické/superelastické srážky). Řešeno potom jako soustava vázaných diferenciálních rovnic\n",
    "$$\n",
    "\\frac{\\partial n}{\\partial t} = An.\n",
    "$$\n"
   ]
  },
  {
   "cell_type": "markdown",
   "metadata": {},
   "source": [
    "## Závěrem, meze platnosti"
   ]
  },
  {
   "cell_type": "markdown",
   "metadata": {},
   "source": [
    "\"dvoučlenová\" aproximace je dobrá, pokud dominantním srážkovým procesem jsou elastické srážky s neutrály. Problém nastává při příliš velkém $E/N$ či vysoké ionizaci. Potom lze použít například metodu Monte Carlo - částicový model. Ta je z hlediska algoritmu relativně jedniduchá a v principu přesná, avšak výpočetně náročnější. Bude předmětem příští přednášky. "
   ]
  },
  {
   "cell_type": "code",
   "execution_count": null,
   "metadata": {},
   "outputs": [],
   "source": []
  }
 ],
 "metadata": {
  "kernelspec": {
   "display_name": "Python 3",
   "language": "python",
   "name": "python3"
  },
  "language_info": {
   "codemirror_mode": {
    "name": "ipython",
    "version": 3
   },
   "file_extension": ".py",
   "mimetype": "text/x-python",
   "name": "python",
   "nbconvert_exporter": "python",
   "pygments_lexer": "ipython3",
   "version": "3.7.5"
  }
 },
 "nbformat": 4,
 "nbformat_minor": 2
}
